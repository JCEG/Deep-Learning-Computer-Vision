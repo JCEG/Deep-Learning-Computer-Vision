{
  "nbformat": 4,
  "nbformat_minor": 0,
  "metadata": {
    "colab": {
      "name": "Tesseract- Check MICR Extraction.ipynb",
      "provenance": [],
      "authorship_tag": "ABX9TyN3cz6n8jS8rms6wocWqb7l",
      "include_colab_link": true
    },
    "kernelspec": {
      "name": "python3",
      "display_name": "Python 3"
    }
  },
  "cells": [
    {
      "cell_type": "markdown",
      "metadata": {
        "id": "view-in-github",
        "colab_type": "text"
      },
      "source": [
        "<a href=\"https://colab.research.google.com/github/srivatsan88/Deep-Learning-Computer-Vision/blob/master/Tesseract_Check_MICR_Extraction.ipynb\" target=\"_parent\"><img src=\"https://colab.research.google.com/assets/colab-badge.svg\" alt=\"Open In Colab\"/></a>"
      ]
    },
    {
      "cell_type": "code",
      "metadata": {
        "id": "AIkcoRQaT4wG",
        "colab_type": "code",
        "colab": {}
      },
      "source": [
        "! apt install tesseract-ocr\n",
        "! apt install libtesseract-dev"
      ],
      "execution_count": null,
      "outputs": []
    },
    {
      "cell_type": "code",
      "metadata": {
        "id": "szVERFesNlJ5",
        "colab_type": "code",
        "colab": {}
      },
      "source": [
        "!pip install pytesseract"
      ],
      "execution_count": null,
      "outputs": []
    },
    {
      "cell_type": "code",
      "metadata": {
        "id": "AZ8KLItW9OhP",
        "colab_type": "code",
        "colab": {}
      },
      "source": [
        "from google.colab import drive\n",
        "drive.mount('/content/drive')"
      ],
      "execution_count": null,
      "outputs": []
    },
    {
      "cell_type": "code",
      "metadata": {
        "id": "O8rFKcprN0n-",
        "colab_type": "code",
        "colab": {}
      },
      "source": [
        "import pytesseract\n",
        "from PIL import Image\n",
        "import requests\n",
        "from io import BytesIO\n",
        "import cv2\n",
        "import numpy as np"
      ],
      "execution_count": null,
      "outputs": []
    },
    {
      "cell_type": "code",
      "metadata": {
        "id": "4_0Q0vDeN6Bc",
        "colab_type": "code",
        "colab": {
          "base_uri": "https://localhost:8080/",
          "height": 35
        },
        "outputId": "e1dd892a-bd50-452c-a572-f8e956de2153"
      },
      "source": [
        "!ls -alrt /usr/bin/tesseract"
      ],
      "execution_count": null,
      "outputs": [
        {
          "output_type": "stream",
          "text": [
            "-rwxr-xr-x 1 root root 26712 Apr  7  2018 /usr/bin/tesseract\n"
          ],
          "name": "stdout"
        }
      ]
    },
    {
      "cell_type": "code",
      "metadata": {
        "id": "7vO7hsLBN9dM",
        "colab_type": "code",
        "colab": {}
      },
      "source": [
        "pytesseract.pytesseract.tesseract_cmd = r'/usr/bin/tesseract'"
      ],
      "execution_count": null,
      "outputs": []
    },
    {
      "cell_type": "code",
      "metadata": {
        "id": "cMtFLDFOOky8",
        "colab_type": "code",
        "colab": {}
      },
      "source": [
        "#path='https://i0.wp.com/unitedrudrafoundation.com/wp-content/uploads/2019/02/personal_check_single_preprinted_blank.jpg'\n",
        "#content = requests.get(path).content\n",
        "#image = Image.open(BytesIO(content))"
      ],
      "execution_count": null,
      "outputs": []
    },
    {
      "cell_type": "code",
      "metadata": {
        "id": "CjiRAA20OkmF",
        "colab_type": "code",
        "colab": {}
      },
      "source": [
        "image = Image.open('/content/drive/My Drive/check_image.jpg')\n",
        "image"
      ],
      "execution_count": null,
      "outputs": []
    },
    {
      "cell_type": "code",
      "metadata": {
        "id": "67Fr6UUCSlyF",
        "colab_type": "code",
        "colab": {
          "base_uri": "https://localhost:8080/",
          "height": 517
        },
        "outputId": "4f9ab85f-b392-4f18-ccb1-22a666fba6c6"
      },
      "source": [
        "print(pytesseract.image_to_string(image, lang = 'eng'))\n"
      ],
      "execution_count": null,
      "outputs": [
        {
          "output_type": "stream",
          "text": [
            "SY\n",
            "PAYABLE AT PAR THROUGH CLEARING/TRANSFER AT ALL BRANCHES OF HDFC BANK LTD\n",
            "oe soo icone\n",
            "kL 4, [ $s | 201%\n",
            "\n",
            "“x\n",
            "Date hence\n",
            "\n",
            " \n",
            "\n",
            "te ce : 4 OR BEARER\n",
            "\n",
            "biwcdved oudy\n",
            "\n",
            "RUPEES _O“%\n",
            "\n",
            "Rs. Joo /-\n",
            "\n",
            " \n",
            "\n",
            " \n",
            "\n",
            "SB - NRE\n",
            "\n",
            "   \n",
            "\n",
            "#338970\" BOOfL0002 t620340 4h\n",
            "\f\n"
          ],
          "name": "stdout"
        }
      ]
    },
    {
      "cell_type": "code",
      "metadata": {
        "id": "3O5jxXd9S8O7",
        "colab_type": "code",
        "colab": {
          "base_uri": "https://localhost:8080/",
          "height": 213
        },
        "outputId": "c5b75087-91a2-481e-fa54-9d93c34a27d1"
      },
      "source": [
        "!wget https://raw.githubusercontent.com/BigPino67/Tesseract-MICR-OCR/master/Tessdata/mcr.traineddata"
      ],
      "execution_count": null,
      "outputs": [
        {
          "output_type": "stream",
          "text": [
            "--2020-08-12 02:17:06--  https://raw.githubusercontent.com/BigPino67/Tesseract-MICR-OCR/master/Tessdata/mcr.traineddata\n",
            "Resolving raw.githubusercontent.com (raw.githubusercontent.com)... 151.101.0.133, 151.101.64.133, 151.101.128.133, ...\n",
            "Connecting to raw.githubusercontent.com (raw.githubusercontent.com)|151.101.0.133|:443... connected.\n",
            "HTTP request sent, awaiting response... 200 OK\n",
            "Length: 147363 (144K) [application/octet-stream]\n",
            "Saving to: ‘mcr.traineddata’\n",
            "\n",
            "mcr.traineddata     100%[===================>] 143.91K  --.-KB/s    in 0.03s   \n",
            "\n",
            "2020-08-12 02:17:07 (4.35 MB/s) - ‘mcr.traineddata’ saved [147363/147363]\n",
            "\n"
          ],
          "name": "stdout"
        }
      ]
    },
    {
      "cell_type": "code",
      "metadata": {
        "id": "94eedSeUYnKp",
        "colab_type": "code",
        "colab": {}
      },
      "source": [
        "!cp mcr.traineddata /usr/share/tesseract-ocr/4.00/tessdata/"
      ],
      "execution_count": null,
      "outputs": []
    },
    {
      "cell_type": "code",
      "metadata": {
        "id": "jvIP59VUaxCI",
        "colab_type": "code",
        "colab": {
          "base_uri": "https://localhost:8080/",
          "height": 35
        },
        "outputId": "494d59bb-73f3-4944-8f65-2165783daf34"
      },
      "source": [
        "check_img = cv2.cvtColor(np.array(image), cv2.COLOR_RGB2BGR)\n",
        "micr_img = check_img[625:717, 0:1630]\n",
        "check_img.shape"
      ],
      "execution_count": null,
      "outputs": [
        {
          "output_type": "execute_result",
          "data": {
            "text/plain": [
              "(717, 1630, 3)"
            ]
          },
          "metadata": {
            "tags": []
          },
          "execution_count": 11
        }
      ]
    },
    {
      "cell_type": "code",
      "metadata": {
        "id": "jr9kv4jkcwot",
        "colab_type": "code",
        "colab": {}
      },
      "source": [
        "import google.colab.patches\n",
        "google.colab.patches.cv2_imshow(micr_img)"
      ],
      "execution_count": null,
      "outputs": []
    },
    {
      "cell_type": "code",
      "metadata": {
        "id": "dK0EkxOzW4xu",
        "colab_type": "code",
        "colab": {
          "base_uri": "https://localhost:8080/",
          "height": 53
        },
        "outputId": "87cd1971-e565-49bb-cb1a-dbd5cbc271e6"
      },
      "source": [
        "print(pytesseract.image_to_string(micr_img,  lang = 'mcr'))"
      ],
      "execution_count": null,
      "outputs": [
        {
          "output_type": "stream",
          "text": [
            "c338970c 600240002a 161031c 31\n",
            "\f\n"
          ],
          "name": "stdout"
        }
      ]
    },
    {
      "cell_type": "code",
      "metadata": {
        "id": "-HX7uIL7QqoO",
        "colab_type": "code",
        "colab": {}
      },
      "source": [
        ""
      ],
      "execution_count": null,
      "outputs": []
    },
    {
      "cell_type": "code",
      "metadata": {
        "id": "V1wO-F-wQqYs",
        "colab_type": "code",
        "colab": {}
      },
      "source": [
        ""
      ],
      "execution_count": null,
      "outputs": []
    },
    {
      "cell_type": "markdown",
      "metadata": {
        "id": "IYuR5EwyjLCT",
        "colab_type": "text"
      },
      "source": [
        "![alt text](https://raw.githubusercontent.com/BigPino67/Tesseract-MICR-OCR/master/readmeImages/micrTable.png)"
      ]
    },
    {
      "cell_type": "code",
      "metadata": {
        "id": "YyuwohSHuIW4",
        "colab_type": "code",
        "colab": {}
      },
      "source": [
        ""
      ],
      "execution_count": null,
      "outputs": []
    }
  ]
}